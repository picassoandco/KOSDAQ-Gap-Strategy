{
 "cells": [
  {
   "cell_type": "code",
   "execution_count": 12,
   "metadata": {
    "collapsed": true
   },
   "outputs": [],
   "source": [
    "import pandas as pd\n",
    "import matplotlib.pyplot as plt\n",
    "import numpy as np\n",
    "import matplotlib\n",
    "import sys\n",
    "sys.path.insert(0,'C:/Users/이세령/picasso/KOSDAQ-Gap-Strategy/CODE')\n",
    "import mylib as my\n",
    "matplotlib.rc('font', family='Malgun Gothic',size=8, weight = 'bold')"
   ]
  },
  {
   "cell_type": "code",
   "execution_count": 13,
   "metadata": {
    "collapsed": true
   },
   "outputs": [],
   "source": [
    "KOSDAQTIK = pd.read_excel('C:/Users/이세령/picasso/KOSDAQ-Gap-Strategy/DATA/KOSDAQTIK.xlsx', header=2)\n"
   ]
  },
  {
   "cell_type": "code",
   "execution_count": 14,
   "metadata": {
    "scrolled": true
   },
   "outputs": [
    {
     "data": {
      "text/html": [
       "<div>\n",
       "<style>\n",
       "    .dataframe thead tr:only-child th {\n",
       "        text-align: right;\n",
       "    }\n",
       "\n",
       "    .dataframe thead th {\n",
       "        text-align: left;\n",
       "    }\n",
       "\n",
       "    .dataframe tbody tr th {\n",
       "        vertical-align: top;\n",
       "    }\n",
       "</style>\n",
       "<table border=\"1\" class=\"dataframe\">\n",
       "  <thead>\n",
       "    <tr style=\"text-align: right;\">\n",
       "      <th></th>\n",
       "      <th>Date</th>\n",
       "      <th>OPEN</th>\n",
       "      <th>LAST_PRICE</th>\n",
       "    </tr>\n",
       "  </thead>\n",
       "  <tbody>\n",
       "    <tr>\n",
       "      <th>0</th>\n",
       "      <td>2017-06-30 09:00:00</td>\n",
       "      <td>665.67</td>\n",
       "      <td>665.78</td>\n",
       "    </tr>\n",
       "    <tr>\n",
       "      <th>1</th>\n",
       "      <td>2017-06-30 09:05:00</td>\n",
       "      <td>665.71</td>\n",
       "      <td>667.36</td>\n",
       "    </tr>\n",
       "    <tr>\n",
       "      <th>2</th>\n",
       "      <td>2017-06-30 09:10:00</td>\n",
       "      <td>667.45</td>\n",
       "      <td>667.60</td>\n",
       "    </tr>\n",
       "    <tr>\n",
       "      <th>3</th>\n",
       "      <td>2017-06-30 09:15:00</td>\n",
       "      <td>667.49</td>\n",
       "      <td>667.64</td>\n",
       "    </tr>\n",
       "    <tr>\n",
       "      <th>4</th>\n",
       "      <td>2017-06-30 09:20:00</td>\n",
       "      <td>667.70</td>\n",
       "      <td>667.49</td>\n",
       "    </tr>\n",
       "  </tbody>\n",
       "</table>\n",
       "</div>"
      ],
      "text/plain": [
       "                 Date    OPEN  LAST_PRICE\n",
       "0 2017-06-30 09:00:00  665.67      665.78\n",
       "1 2017-06-30 09:05:00  665.71      667.36\n",
       "2 2017-06-30 09:10:00  667.45      667.60\n",
       "3 2017-06-30 09:15:00  667.49      667.64\n",
       "4 2017-06-30 09:20:00  667.70      667.49"
      ]
     },
     "execution_count": 14,
     "metadata": {},
     "output_type": "execute_result"
    }
   ],
   "source": [
    "KOSDAQTIK.head()"
   ]
  },
  {
   "cell_type": "code",
   "execution_count": 15,
   "metadata": {},
   "outputs": [
    {
     "data": {
      "text/plain": [
       "Date          datetime64[ns]\n",
       "OPEN                 float64\n",
       "LAST_PRICE           float64\n",
       "dtype: object"
      ]
     },
     "execution_count": 15,
     "metadata": {},
     "output_type": "execute_result"
    }
   ],
   "source": [
    "KOSDAQTIK.dtypes"
   ]
  },
  {
   "cell_type": "code",
   "execution_count": 16,
   "metadata": {
    "collapsed": true
   },
   "outputs": [],
   "source": [
    "KOSDAQTIK['hour'] = KOSDAQTIK.Date.dt.hour"
   ]
  },
  {
   "cell_type": "code",
   "execution_count": 17,
   "metadata": {
    "collapsed": true
   },
   "outputs": [],
   "source": [
    "KOSDAQTIK['minute'] = KOSDAQTIK.Date.dt.minute"
   ]
  },
  {
   "cell_type": "code",
   "execution_count": 18,
   "metadata": {},
   "outputs": [
    {
     "data": {
      "text/plain": [
       "0    30\n",
       "1    30\n",
       "2    30\n",
       "3    30\n",
       "4    30\n",
       "Name: Date, dtype: int64"
      ]
     },
     "execution_count": 18,
     "metadata": {},
     "output_type": "execute_result"
    }
   ],
   "source": [
    "KOSDAQTIK['Date'].dt.day.head()"
   ]
  },
  {
   "cell_type": "code",
   "execution_count": 19,
   "metadata": {
    "collapsed": true
   },
   "outputs": [],
   "source": [
    "buy = KOSDAQTIK[(KOSDAQTIK.hour.between(15,15)) & (KOSDAQTIK.minute.between(30,30))].OPEN"
   ]
  },
  {
   "cell_type": "code",
   "execution_count": 20,
   "metadata": {},
   "outputs": [
    {
     "data": {
      "text/plain": [
       "78     669.10\n",
       "157    661.44\n",
       "236    656.67\n",
       "315    661.46\n",
       "394    663.97\n",
       "Name: OPEN, dtype: float64"
      ]
     },
     "execution_count": 20,
     "metadata": {},
     "output_type": "execute_result"
    }
   ],
   "source": [
    "buy.head()"
   ]
  },
  {
   "cell_type": "code",
   "execution_count": 21,
   "metadata": {
    "collapsed": true
   },
   "outputs": [],
   "source": [
    "%matplotlib inline"
   ]
  },
  {
   "cell_type": "code",
   "execution_count": 22,
   "metadata": {
    "scrolled": false
   },
   "outputs": [
    {
     "data": {
      "text/plain": [
       "<matplotlib.axes._subplots.AxesSubplot at 0x237b5405400>"
      ]
     },
     "execution_count": 22,
     "metadata": {},
     "output_type": "execute_result"
    },
    {
     "data": {
      "image/png": "[encoded data removed]",
      "text/plain": [
       "<matplotlib.figure.Figure at 0x237b5405898>"
      ]
     },
     "metadata": {},
     "output_type": "display_data"
    }
   ],
   "source": [
    "KOSDAQTIK.OPEN.shift(79).plot()\n",
    "KOSDAQTIK.LAST_PRICE.plot()"
   ]
  },
  {
   "cell_type": "code",
   "execution_count": 23,
   "metadata": {
    "collapsed": true
   },
   "outputs": [],
   "source": [
    "sell = KOSDAQTIK[(KOSDAQTIK.hour <= 9) & (KOSDAQTIK.minute.between(0,0))].OPEN"
   ]
  },
  {
   "cell_type": "code",
   "execution_count": 24,
   "metadata": {},
   "outputs": [
    {
     "data": {
      "text/plain": [
       "0      665.67\n",
       "79     671.17\n",
       "158    662.17\n",
       "237    657.70\n",
       "316    663.79\n",
       "Name: OPEN, dtype: float64"
      ]
     },
     "execution_count": 24,
     "metadata": {},
     "output_type": "execute_result"
    }
   ],
   "source": [
    "sell.head()"
   ]
  },
  {
   "cell_type": "code",
   "execution_count": 25,
   "metadata": {},
   "outputs": [
    {
     "data": {
      "text/plain": [
       "78     669.10\n",
       "157    661.44\n",
       "236    656.67\n",
       "315    661.46\n",
       "394    663.97\n",
       "Name: OPEN, dtype: float64"
      ]
     },
     "execution_count": 25,
     "metadata": {},
     "output_type": "execute_result"
    }
   ],
   "source": [
    "buy.head()"
   ]
  },
  {
   "cell_type": "code",
   "execution_count": 26,
   "metadata": {
    "collapsed": true
   },
   "outputs": [],
   "source": [
    "KOSDAQTIK['buy'] = buy"
   ]
  },
  {
   "cell_type": "code",
   "execution_count": 27,
   "metadata": {
    "collapsed": true
   },
   "outputs": [],
   "source": [
    "KOSDAQTIK['sell'] = sell"
   ]
  },
  {
   "cell_type": "code",
   "execution_count": 28,
   "metadata": {},
   "outputs": [
    {
     "data": {
      "text/plain": [
       "78     669.10\n",
       "157    661.44\n",
       "236    656.67\n",
       "315    661.46\n",
       "394    663.97\n",
       "Name: buy, dtype: float64"
      ]
     },
     "execution_count": 28,
     "metadata": {},
     "output_type": "execute_result"
    }
   ],
   "source": [
    "KOSDAQTIK['buy'].dropna().head()"
   ]
  },
  {
   "cell_type": "code",
   "execution_count": 29,
   "metadata": {
    "collapsed": true
   },
   "outputs": [],
   "source": [
    "s = KOSDAQTIK['sell'].dropna()"
   ]
  },
  {
   "cell_type": "code",
   "execution_count": 30,
   "metadata": {},
   "outputs": [
    {
     "data": {
      "text/plain": [
       "0      665.67\n",
       "79     671.17\n",
       "158    662.17\n",
       "237    657.70\n",
       "316    663.79\n",
       "Name: sell, dtype: float64"
      ]
     },
     "execution_count": 30,
     "metadata": {},
     "output_type": "execute_result"
    }
   ],
   "source": [
    "s.head()"
   ]
  },
  {
   "cell_type": "code",
   "execution_count": 31,
   "metadata": {},
   "outputs": [
    {
     "ename": "ValueError",
     "evalue": "operands could not be broadcast together with shapes (145,) (147,) ",
     "output_type": "error",
     "traceback": [
      "\u001b[1;31m---------------------------------------------------------------------------\u001b[0m",
      "\u001b[1;31mValueError\u001b[0m                                Traceback (most recent call last)",
      "\u001b[1;32m<ipython-input-31-341ea7447ad0>\u001b[0m in \u001b[0;36m<module>\u001b[1;34m()\u001b[0m\n\u001b[1;32m----> 1\u001b[1;33m \u001b[0mgain\u001b[0m \u001b[1;33m=\u001b[0m \u001b[0mpd\u001b[0m\u001b[1;33m.\u001b[0m\u001b[0mSeries\u001b[0m\u001b[1;33m(\u001b[0m\u001b[1;33m(\u001b[0m\u001b[0msell\u001b[0m\u001b[1;33m.\u001b[0m\u001b[0mvalues\u001b[0m\u001b[1;33m*\u001b[0m\u001b[1;36m0.99985\u001b[0m\u001b[1;33m-\u001b[0m\u001b[0mbuy\u001b[0m\u001b[1;33m.\u001b[0m\u001b[0mvalues\u001b[0m\u001b[1;33m*\u001b[0m\u001b[1;36m1.00015\u001b[0m\u001b[1;33m)\u001b[0m\u001b[1;33m/\u001b[0m\u001b[0mbuy\u001b[0m\u001b[1;33m.\u001b[0m\u001b[0mvalues\u001b[0m\u001b[1;33m*\u001b[0m\u001b[1;36m1.00015\u001b[0m\u001b[1;33m)\u001b[0m\u001b[1;33m\u001b[0m\u001b[0m\n\u001b[0m",
      "\u001b[1;31mValueError\u001b[0m: operands could not be broadcast together with shapes (145,) (147,) "
     ]
    }
   ],
   "source": [
    "gain = pd.Series((sell.values*0.99985-buy.values*1.00015)/buy.values*1.00015)"
   ]
  },
  {
   "cell_type": "code",
   "execution_count": null,
   "metadata": {},
   "outputs": [],
   "source": [
    "(1+gain).cumprod().plot()"
   ]
  },
  {
   "cell_type": "code",
   "execution_count": null,
   "metadata": {},
   "outputs": [],
   "source": [
    "(1+gain).cumprod().tail()"
   ]
  },
  {
   "cell_type": "code",
   "execution_count": null,
   "metadata": {},
   "outputs": [],
   "source": [
    "len(gain[gain>0])/len(gain)"
   ]
  },
  {
   "cell_type": "code",
   "execution_count": null,
   "metadata": {},
   "outputs": [],
   "source": [
    "gain.mean()"
   ]
  },
  {
   "cell_type": "code",
   "execution_count": null,
   "metadata": {},
   "outputs": [],
   "source": [
    "gain.plot()"
   ]
  },
  {
   "cell_type": "code",
   "execution_count": null,
   "metadata": {},
   "outputs": [],
   "source": [
    "KOSDAQTIK.head()"
   ]
  },
  {
   "cell_type": "code",
   "execution_count": null,
   "metadata": {
    "collapsed": true
   },
   "outputs": [],
   "source": [
    "def bet(data):\n",
    "    start = 0.1\n",
    "    cir = 0\n",
    "    max_cir = 8\n",
    "    list = []\n",
    "    for i in range(len(data)):\n",
    "        if data.values[i-1]==True and cir <= max_cir:\n",
    "            cir +=1\n",
    "            weight = start*cir\n",
    "        else:\n",
    "            cir = 1\n",
    "            weight = start*cir\n",
    "        list.append(weight)\n",
    "    return list"
   ]
  },
  {
   "cell_type": "code",
   "execution_count": null,
   "metadata": {
    "collapsed": true
   },
   "outputs": [],
   "source": [
    "def bet2(data):\n",
    "    start = 0.1\n",
    "    cir = 0\n",
    "    max_cir = 8\n",
    "    min_cir = 1\n",
    "    list = []\n",
    "    for i in range(len(data)):\n",
    "        if cir <= 1:\n",
    "            cir +=1\n",
    "            weight = start*cir\n",
    "        elif data.values[i-1]==True and cir <= max_cir:\n",
    "            cir +=1\n",
    "            weight = start*cir\n",
    "        elif data.values[i-1]==False and cir <= max_cir:\n",
    "            cir -= 1\n",
    "            weight = start*cir\n",
    "        else:\n",
    "            cir = min_cir\n",
    "            weight = start*cir\n",
    "        list.append(weight)\n",
    "    return list"
   ]
  },
  {
   "cell_type": "code",
   "execution_count": null,
   "metadata": {
    "collapsed": true
   },
   "outputs": [],
   "source": [
    "def cash_weight(data):\n",
    "    list=[]\n",
    "    for i in data:\n",
    "        cash = (1-i)*0.003835/100\n",
    "        list.append(cash)\n",
    "    return list"
   ]
  },
  {
   "cell_type": "code",
   "execution_count": null,
   "metadata": {},
   "outputs": [],
   "source": [
    "gain"
   ]
  },
  {
   "cell_type": "code",
   "execution_count": null,
   "metadata": {
    "collapsed": true
   },
   "outputs": [],
   "source": [
    "new = bet(gain>0)*gain + cash_weight(bet(gain>0))"
   ]
  },
  {
   "cell_type": "code",
   "execution_count": null,
   "metadata": {
    "collapsed": true
   },
   "outputs": [],
   "source": [
    "new2 = bet2(gain>0)*gain + cash_weight(bet2(gain>0))"
   ]
  },
  {
   "cell_type": "code",
   "execution_count": null,
   "metadata": {
    "scrolled": true
   },
   "outputs": [],
   "source": [
    "(1+new).cumprod().tail()"
   ]
  },
  {
   "cell_type": "code",
   "execution_count": null,
   "metadata": {},
   "outputs": [],
   "source": [
    "(1+new2).cumprod().tail()"
   ]
  },
  {
   "cell_type": "code",
   "execution_count": null,
   "metadata": {
    "collapsed": true
   },
   "outputs": [],
   "source": [
    "KOSDAQTIK['종가지수'] = KOSDAQTIK.LAST_PRICE"
   ]
  },
  {
   "cell_type": "code",
   "execution_count": null,
   "metadata": {
    "collapsed": true
   },
   "outputs": [],
   "source": [
    "KOSDAQTIK['날짜'] = KOSDAQTIK.Date"
   ]
  },
  {
   "cell_type": "code",
   "execution_count": null,
   "metadata": {
    "collapsed": true
   },
   "outputs": [],
   "source": [
    "ben = my.벤치마크( KOSDAQTIK[(KOSDAQTIK.hour.between(15,15)) & (KOSDAQTIK.minute.between(30,30))])"
   ]
  },
  {
   "cell_type": "code",
   "execution_count": null,
   "metadata": {
    "collapsed": true
   },
   "outputs": [],
   "source": [
    "ben.index = new.index"
   ]
  },
  {
   "cell_type": "code",
   "execution_count": null,
   "metadata": {},
   "outputs": [],
   "source": [
    "ben.values[-1]"
   ]
  },
  {
   "cell_type": "code",
   "execution_count": null,
   "metadata": {
    "scrolled": false
   },
   "outputs": [],
   "source": [
    "a = (1+gain).cumprod()\n",
    "b = (1+new).cumprod()\n",
    "c = (1+new2).cumprod()\n",
    "e = ben\n",
    "d = pd.concat([a, b, c, e], axis=1).dropna()\n",
    "d.columns = ['종가베팅', '현금혼합비중조절', '현금혼합비중조절2', '벤치마크']\n",
    "d.divide(d.iloc[0]).plot(figsize = (18,12))\n",
    "plt.show()\n",
    "\n",
    "최대하락 = d.현금혼합비중조절.rolling(min_periods=1, window = 500).max()\n",
    "당월하락 = d.현금혼합비중조절/최대하락 - 1.0\n",
    "최대하락폭 = 당월하락.rolling(min_periods=1, window=500).min()\n",
    "\n",
    "당월하락.plot(subplots=True, figsize = (18,2), linestyle='dotted')\n",
    "최대하락폭.plot(subplots=True, figsize = (18,2), color = 'red', linestyle='dotted')\n",
    "plt.show()\n",
    "\n",
    "최대하락2 = d.종가베팅.rolling(min_periods=1, window = 500).max()\n",
    "당월하락2 = d.종가베팅/최대하락2 - 1.0\n",
    "최대하락폭2 = 당월하락2.rolling(min_periods=1, window=500).min()\n",
    "\n",
    "당월하락2.plot(subplots=True, figsize = (18,2), linestyle='dotted')\n",
    "최대하락폭2.plot(subplots=True, figsize = (18,2), color = 'red', linestyle='dotted')\n",
    "plt.show()\n",
    "\n",
    "최대하락3 = d.현금혼합비중조절2.rolling(min_periods=1, window = 500).max()\n",
    "당월하락3 = d.현금혼합비중조절2/최대하락3 - 1.0\n",
    "최대하락폭3 = 당월하락3.rolling(min_periods=1, window=500).min()\n",
    "\n",
    "당월하락3.plot(subplots=True, figsize = (18,2), linestyle='dotted')\n",
    "최대하락폭3.plot(subplots=True, figsize = (18,2), color = 'red', linestyle='dotted')\n",
    "plt.show()\n",
    "#STD\n",
    "현금혼합변동성 = (1+new).cumprod().std()\n",
    "종가베팅변동성 = (1+gain).cumprod().std()\n",
    "현금혼합2변동성 = (1+new2).cumprod().std()\n",
    "\n",
    "#6. MDD / CAGR\n",
    "투자기간 = len(d.index)/262\n",
    "print(\"현금혼합비중조절 CAGR : \"+str(d.현금혼합비중조절[129]**(1/투자기간)*100-100)[0:4]+\"%\")\n",
    "print(\"현금혼합비중조절 MDD : \"+str(최대하락폭.min()*100)[0:5]+\"%\")\n",
    "print(\"현금혼합비중조절 S/R : \"+str(((d.현금혼합비중조절[129]**(1/투자기간))-0.014)/현금혼합변동성)[0:5])\n",
    "print(\"현금혼합비중조절 S/R : \"+str(((d.현금혼합비중조절[129]**(1/투자기간))-(ben.values[-1]**(1/투자기간)))/현금혼합변동성)[0:5])\n",
    "print(\"종가베팅 CAGR : \"+str(d.종가베팅[129]**(1/투자기간)*100-100)[0:4]+\"%\")\n",
    "print(\"종가베팅 MDD : \"+str(최대하락폭2.min()*100)[0:5]+\"%\")\n",
    "print(\"종가베팅 S/R : \"+str(((d.종가베팅[129]**(1/투자기간))-0.014)/종가베팅변동성)[0:5])\n",
    "print(\"벤치대비 종가베팅 S/R : \"+str(((d.종가베팅[129]**(1/투자기간))-(ben.values[-1]**(1/투자기간)))/종가베팅변동성)[0:5])\n",
    "print(\"현금혼합비중조절2 CAGR : \"+str(d.현금혼합비중조절2[129]**(1/투자기간)*100-100)[0:4]+\"%\")\n",
    "print(\"현금혼합비중조절2 MDD : \"+str(최대하락폭3.min()*100)[0:5]+\"%\")\n",
    "print(\"현금혼합비중조절2 S/R : \"+str(((d.현금혼합비중조절2[129]**(1/투자기간))-0.014)/현금혼합2변동성)[0:5])\n",
    "print(\"벤치대비 현금혼합비중조절2 S/R : \"+str(((d.현금혼합비중조절2[129]**(1/투자기간))-(ben.values[-1]**(1/투자기간)))/현금혼합2변동성)[0:5])\n"
   ]
  },
  {
   "cell_type": "code",
   "execution_count": null,
   "metadata": {
    "collapsed": true
   },
   "outputs": [],
   "source": [
    "KOSDAQ2 = pd.read_excel('C:/Users/이세령/picasso/KOSDAQ-Gap-Strategy/DATA/KOSDAQ2.xlsx', header=1)"
   ]
  },
  {
   "cell_type": "code",
   "execution_count": null,
   "metadata": {},
   "outputs": [],
   "source": [
    "KOSDAQ2.head()"
   ]
  },
  {
   "cell_type": "code",
   "execution_count": null,
   "metadata": {
    "collapsed": true,
    "scrolled": false
   },
   "outputs": [],
   "source": [
    "K_gain = my.일간수익률(KOSDAQ2)"
   ]
  },
  {
   "cell_type": "code",
   "execution_count": null,
   "metadata": {
    "collapsed": true
   },
   "outputs": [],
   "source": [
    "K_new = bet(K_gain>0)*K_gain + cash_weight(bet(K_gain>0))"
   ]
  },
  {
   "cell_type": "code",
   "execution_count": null,
   "metadata": {
    "collapsed": true
   },
   "outputs": [],
   "source": [
    "K_new.index = K_gain.index"
   ]
  },
  {
   "cell_type": "code",
   "execution_count": null,
   "metadata": {
    "collapsed": true
   },
   "outputs": [],
   "source": [
    "K_new2 = bet2(K_gain>0)*K_gain + cash_weight(bet2(K_gain>0))"
   ]
  },
  {
   "cell_type": "code",
   "execution_count": null,
   "metadata": {
    "collapsed": true
   },
   "outputs": [],
   "source": [
    "K_new2.index = K_gain.index"
   ]
  },
  {
   "cell_type": "code",
   "execution_count": null,
   "metadata": {},
   "outputs": [],
   "source": [
    "K_new2>0"
   ]
  },
  {
   "cell_type": "code",
   "execution_count": null,
   "metadata": {
    "collapsed": true
   },
   "outputs": [],
   "source": [
    "ben2 = my.벤치마크(KOSDAQ2)"
   ]
  },
  {
   "cell_type": "code",
   "execution_count": null,
   "metadata": {
    "scrolled": true
   },
   "outputs": [],
   "source": [
    "bet2(K_new2>0)"
   ]
  },
  {
   "cell_type": "code",
   "execution_count": null,
   "metadata": {
    "scrolled": false
   },
   "outputs": [],
   "source": [
    "a = (1+K_gain).cumprod()\n",
    "b = (1+K_new).cumprod()\n",
    "c = (1+K_new2).cumprod()\n",
    "d = pd.concat([a, b, c], axis=1).dropna()\n",
    "d.columns = ['종가베팅', '현금혼합비중조절', '현금혼합비중조절2']\n",
    "d.divide(d.iloc[0]).plot(figsize = (18,12))\n",
    "plt.show()\n",
    "\n",
    "최대하락 = d.현금혼합비중조절.rolling(min_periods=1, window = 500).max()\n",
    "당월하락 = d.현금혼합비중조절/최대하락 - 1.0\n",
    "최대하락폭 = 당월하락.rolling(min_periods=1, window=500).min()\n",
    "\n",
    "당월하락.plot(subplots=True, figsize = (18,2), linestyle='dotted')\n",
    "최대하락폭.plot(subplots=True, figsize = (18,2), color = 'red', linestyle='dotted')\n",
    "plt.show()\n",
    "\n",
    "최대하락3 = d.현금혼합비중조절2.rolling(min_periods=1, window = 500).max()\n",
    "당월하락3 = d.현금혼합비중조절2/최대하락3 - 1.0\n",
    "최대하락폭3 = 당월하락3.rolling(min_periods=1, window=500).min()\n",
    "\n",
    "당월하락3.plot(subplots=True, figsize = (18,2), linestyle='dotted')\n",
    "최대하락폭3.plot(subplots=True, figsize = (18,2), color = 'red', linestyle='dotted')\n",
    "plt.show()\n",
    "\n",
    "최대하락2 = d.종가베팅.rolling(min_periods=1, window = 500).max()\n",
    "당월하락2 = d.종가베팅/최대하락2 - 1.0\n",
    "최대하락폭2 = 당월하락2.rolling(min_periods=1, window=500).min()\n",
    "\n",
    "당월하락2.plot(subplots=True, figsize = (18,2), linestyle='dotted')\n",
    "최대하락폭2.plot(subplots=True, figsize = (18,2), color = 'red', linestyle='dotted')\n",
    "plt.show()\n",
    "\n",
    "\n",
    "#STD\n",
    "현금혼합변동성 = K_new.cumprod().std()\n",
    "종가베팅변동성 = K_gain.cumprod().std()\n",
    "현금혼합2변동성 = K_new2.cumprod().std()\n",
    "\n",
    "#6. MDD / CAGR\n",
    "투자기간 = len(d.index)/252\n",
    "print(\"현금혼합비중조절 CAGR : \"+str(d.현금혼합비중조절[4697]**(1/투자기간)*100-100)[0:4]+\"%\")\n",
    "print(\"현금혼합비중조절 MDD : \"+str(최대하락폭.min()*100)[0:5]+\"%\")\n",
    "print(\"현금혼합비중조절 S/R : \"+str(((d.현금혼합비중조절[4697]**(1/투자기간))-0.014)/(투자기간*12)/현금혼합변동성)[0:5])\n",
    "print(\"벤치대비 현금혼합비중조절 S/R : \"+str(((d.현금혼합비중조절[4697]**(1/투자기간))-(ben.values[-1]**(1/투자기간)))/(투자기간*12)/현금혼합변동성)[0:5])\n",
    "print(\"현금혼합비중조절2 CAGR : \"+str(d.현금혼합비중조절2[4697]**(1/투자기간)*100-100)[0:4]+\"%\")\n",
    "print(\"현금혼합비중조절2 MDD : \"+str(최대하락폭3.min()*100)[0:5]+\"%\")\n",
    "print(\"현금혼합비중조절2 S/R : \"+str(((d.현금혼합비중조절2[4697]**(1/투자기간))-0.014)/(투자기간*12)/현금혼합2변동성)[0:5])\n",
    "print(\"벤치대비 현금혼합비중조절2 S/R : \"+str(((d.현금혼합비중조절2[4697]**(1/투자기간))-(ben.values[-1]**(1/투자기간)))/(투자기간*12)/현금혼합2변동성)[0:5])\n",
    "print(\"종가베팅 CAGR : \"+str(d.종가베팅[4697]**(1/투자기간)*100-100)[0:4]+\"%\")\n",
    "print(\"종가베팅 MDD : \"+str(최대하락폭2.min()*100)[0:5]+\"%\")\n",
    "print(\"종가베팅 S/R : \"+str(((d.종가베팅[4697]**(1/투자기간))-0.014)/(투자기간*12)/종가베팅변동성)[0:5])\n",
    "print(\"벤치대비 종가베팅 S/R : \"+str(((d.종가베팅[4697]**(1/투자기간))-(ben.values[-1]**(1/투자기간)))/(투자기간*12)/종가베팅변동성)[0:5])\n"
   ]
  },
  {
   "cell_type": "code",
   "execution_count": null,
   "metadata": {},
   "outputs": [],
   "source": [
    "투자기간"
   ]
  },
  {
   "cell_type": "code",
   "execution_count": null,
   "metadata": {},
   "outputs": [],
   "source": [
    "KOSDAQTIK.head()"
   ]
  },
  {
   "cell_type": "code",
   "execution_count": null,
   "metadata": {
    "scrolled": true
   },
   "outputs": [],
   "source": [
    "df_date = KOSDAQTIK['Date'].dt.date\n",
    "days = df_date.drop_duplicates()\n",
    "KOSDAQTIK['Date'][1]"
   ]
  },
  {
   "cell_type": "code",
   "execution_count": null,
   "metadata": {
    "scrolled": true
   },
   "outputs": [],
   "source": [
    "def timing(data):\n",
    "    df= data['Date'].dt.date\n",
    "    days = df.drop_duplicates().dropna()\n",
    "    start = []\n",
    "    for i in days.index:\n",
    "        if i > 1:\n",
    "            start.append(i)\n",
    "    return start\n",
    "\n",
    "X = []\n",
    "for i in KOSDAQTIK.index:\n",
    "    X.append(KOSDAQTIK.OPEN[i])\n",
    "    X.append(KOSDAQTIK.LAST_PRICE[i])\n",
    "    \n",
    "    \n",
    "X\n",
    "def grad(data):\n",
    "    Y = [] \n",
    "    Z = []\n",
    "    start = timing(data)\n",
    "    for i in start:\n",
    "        for k in range(0,12):\n",
    "            if X[i*2+k+1] > X[i*2+k]:\n",
    "                continue\n",
    "            else:\n",
    "                Y.append(X[i*2+k+1])\n",
    "                Z.append(i+k+1)\n",
    "                break\n",
    "    return Y\n",
    "\n",
    "print(timing(KOSDAQTIK))\n",
    "print(grad(KOSDAQTIK))"
   ]
  },
  {
   "cell_type": "code",
   "execution_count": null,
   "metadata": {
    "collapsed": true,
    "scrolled": true
   },
   "outputs": [],
   "source": [
    "trade = [('Date', timing(KOSDAQTIK)),\n",
    "         ('Buy', buy.values),\n",
    "         ('Sell', grad(KOSDAQTIK)),\n",
    "         ]\n",
    "df = pd.DataFrame.from_items(trade)"
   ]
  },
  {
   "cell_type": "code",
   "execution_count": null,
   "metadata": {},
   "outputs": [],
   "source": [
    "df.head()"
   ]
  },
  {
   "cell_type": "code",
   "execution_count": null,
   "metadata": {
    "collapsed": true
   },
   "outputs": [],
   "source": [
    "trad_records = df"
   ]
  },
  {
   "cell_type": "code",
   "execution_count": null,
   "metadata": {
    "collapsed": true
   },
   "outputs": [],
   "source": [
    "opt_gain = (df.Sell - df.Buy)/df.Buy"
   ]
  },
  {
   "cell_type": "code",
   "execution_count": null,
   "metadata": {},
   "outputs": [],
   "source": [
    "(1+opt_gain).cumprod().tail()"
   ]
  },
  {
   "cell_type": "code",
   "execution_count": null,
   "metadata": {},
   "outputs": [],
   "source": [
    "(1+gain).cumprod().tail()"
   ]
  },
  {
   "cell_type": "code",
   "execution_count": null,
   "metadata": {
    "scrolled": false
   },
   "outputs": [],
   "source": [
    "a = (1+opt_gain).cumprod()\n",
    "b = (1+gain).cumprod()\n",
    "c = pd.concat([a, b], axis=1).dropna()\n",
    "c.columns = ['스나이핑매도', '시초가강제청산']\n",
    "c.divide(c.iloc[0]).plot(figsize = (18,12))\n",
    "plt.show()\n",
    "\n",
    "최대하락 = c.스나이핑매도.rolling(min_periods=1, window = 500).max()\n",
    "당월하락 = c.스나이핑매도/최대하락 - 1.0\n",
    "최대하락폭 = 당월하락.rolling(min_periods=1, window=500).min()\n",
    "\n",
    "당월하락.plot(subplots=True, figsize = (18,2), linestyle='dotted')\n",
    "최대하락폭.plot(subplots=True, figsize = (18,2), color = 'red', linestyle='dotted')\n",
    "plt.show()\n",
    "\n",
    "최대하락3 = c.시초가강제청산.rolling(min_periods=1, window = 500).max()\n",
    "당월하락3 = c.시초가강제청산/최대하락3 - 1.0\n",
    "최대하락폭3 = 당월하락3.rolling(min_periods=1, window=500).min()\n",
    "\n",
    "당월하락3.plot(subplots=True, figsize = (18,2), linestyle='dotted')\n",
    "최대하락폭3.plot(subplots=True, figsize = (18,2), color = 'red', linestyle='dotted')\n",
    "plt.show()\n",
    "\n",
    "\n",
    "\n",
    "#STD\n",
    "스나이핑매도변동성 = a.std()\n",
    "시초가강제청산변동성 = b.std()\n",
    "\n",
    "#6. MDD / CAGR\n",
    "투자기간 = len(c.index)/252\n",
    "print(\"스나이핑매도 CAGR : \"+str(c.스나이핑매도[129]**(1/투자기간)*100-100)[0:4]+\"%\")\n",
    "print(\"스나이핑매도 MDD : \"+str(최대하락폭.min()*100)[0:5]+\"%\")\n",
    "print(\"스나이핑매도 S/R : \"+str((((c.스나이핑매도[129]**(1/투자기간))-0.014)/(투자기간*12))/스나이핑매도변동성)[0:5])\n",
    "print(\"벤치대비 스나이핑매도 S/R : \"+str((((c.스나이핑매도[129]**(1/투자기간))-(ben.values[-1]**(1/투자기간)))/(투자기간*12))/스나이핑매도변동성)[0:5])\n",
    "print(\"시초가강제청산 CAGR : \"+str(c.시초가강제청산[129]**(1/투자기간)*100-100)[0:4]+\"%\")\n",
    "print(\"시초가강제청산 MDD : \"+str(최대하락폭3.min()*100)[0:5]+\"%\")\n",
    "print(\"시초가강제청산 S/R : \"+str(((c.시초가강제청산[129]**(1/투자기간))-0.014)/(투자기간*12)/시초가강제청산변동성)[0:5])\n",
    "print(\"벤치대비 시초가강제청산 S/R : \"+str(((c.시초가강제청산[129]**(1/투자기간))-(ben.values[-1]**(1/투자기간)))/(투자기간*12)/시초가강제청산변동성)[0:5])\n"
   ]
  },
  {
   "cell_type": "code",
   "execution_count": null,
   "metadata": {
    "collapsed": true
   },
   "outputs": [],
   "source": [
    "new3 = bet(opt_gain>0)*opt_gain + cash_weight(bet(opt_gain>0))"
   ]
  },
  {
   "cell_type": "code",
   "execution_count": null,
   "metadata": {
    "collapsed": true
   },
   "outputs": [],
   "source": [
    "new4 = bet2(opt_gain>0)*gain + cash_weight(bet2(opt_gain>0))"
   ]
  },
  {
   "cell_type": "code",
   "execution_count": null,
   "metadata": {},
   "outputs": [],
   "source": [
    "ben.values[-1]"
   ]
  },
  {
   "cell_type": "code",
   "execution_count": null,
   "metadata": {
    "scrolled": false
   },
   "outputs": [],
   "source": [
    "a = (1+opt_gain).cumprod()\n",
    "b = (1+new3).cumprod()\n",
    "d = (1+new).cumprod()\n",
    "c = pd.concat([a, b, d], axis=1).dropna()\n",
    "c.columns = ['스나이핑매도', '스나이핑현금혼함', '일반현금혼합']\n",
    "c.divide(c.iloc[0]).plot(figsize = (18,12))\n",
    "plt.show()\n",
    "\n",
    "최대하락 = c.스나이핑매도.rolling(min_periods=1, window = 500).max()\n",
    "당월하락 = c.스나이핑매도/최대하락 - 1.0\n",
    "최대하락폭 = 당월하락.rolling(min_periods=1, window=500).min()\n",
    "\n",
    "당월하락.plot(subplots=True, figsize = (18,2), linestyle='dotted')\n",
    "최대하락폭.plot(subplots=True, figsize = (18,2), color = 'red', linestyle='dotted')\n",
    "plt.show()\n",
    "\n",
    "최대하락3 = c.스나이핑현금혼함.rolling(min_periods=1, window = 500).max()\n",
    "당월하락3 = c.스나이핑현금혼함/최대하락3 - 1.0\n",
    "최대하락폭3 = 당월하락3.rolling(min_periods=1, window=500).min()\n",
    "\n",
    "당월하락3.plot(subplots=True, figsize = (18,2), linestyle='dotted')\n",
    "최대하락폭3.plot(subplots=True, figsize = (18,2), color = 'red', linestyle='dotted')\n",
    "plt.show()\n",
    "\n",
    "최대하락2 = c.일반현금혼합.rolling(min_periods=1, window = 500).max()\n",
    "당월하락2 = c.일반현금혼합/최대하락2 - 1.0\n",
    "최대하락폭2 = 당월하락2.rolling(min_periods=1, window=500).min()\n",
    "\n",
    "당월하락2.plot(subplots=True, figsize = (18,2), linestyle='dotted')\n",
    "최대하락폭2.plot(subplots=True, figsize = (18,2), color = 'red', linestyle='dotted')\n",
    "plt.show()\n",
    "\n",
    "\n",
    "#STD\n",
    "스나이핑매도변동성 = a.std()\n",
    "시초가강제청산변동성 = b.std()\n",
    "일반위험관리변동성 = d.std()\n",
    "\n",
    "#6. MDD / CAGR\n",
    "투자기간 = len(c.index)/252\n",
    "print(\"스나이핑매도 CAGR : \"+str(c.스나이핑매도[129]**(1/투자기간)*100-100)[0:4]+\"%\")\n",
    "print(\"스나이핑매도 MDD : \"+str(최대하락폭.min()*100)[0:5]+\"%\")\n",
    "print(\"스나이핑매도 S/R : \"+str(((c.스나이핑매도[129]**(1/투자기간))-0.014)/(투자기간*12)/스나이핑매도변동성)[0:5])\n",
    "print(\"벤치대비 스나이핑매도 S/R : \"+str(((c.스나이핑매도[129]**(1/투자기간))-(ben.values[-1]**(1/투자기간)))/(투자기간*12)/스나이핑매도변동성)[0:5])\n",
    "print(\"스나이핑현금혼함 CAGR : \"+str(c.스나이핑현금혼함[129]**(1/투자기간)*100-100)[0:4]+\"%\")\n",
    "print(\"스나이핑현금혼함 MDD : \"+str(최대하락폭3.min()*100)[0:5]+\"%\")\n",
    "print(\"스나이핑현금혼함 S/R : \"+str(((c.스나이핑현금혼함[129]**(1/투자기간))-0.014)/(투자기간*12)/시초가강제청산변동성)[0:5])\n",
    "print(\"벤치대비 스나이핑현금혼함 S/R : \"+str(((c.스나이핑현금혼함[129]**(1/투자기간))-(ben.values[-1]**(1/투자기간)))/(투자기간*12)/시초가강제청산변동성)[0:5])\n",
    "print(\"일반현금혼합 CAGR : \"+str(c.일반현금혼합[129]**(1/투자기간)*100-100)[0:4]+\"%\")\n",
    "print(\"일반현금혼합 MDD : \"+str(최대하락폭.min()*100)[0:5]+\"%\")\n",
    "print(\"일반현금혼합 S/R : \"+str(((c.일반현금혼합[129]**(1/투자기간))-0.014)/(투자기간*12)/일반위험관리변동성)[0:5])\n",
    "print(\"일반현금혼합 S/R : \"+str(((c.일반현금혼합[129]**(1/투자기간))-(ben.values[-1]**(1/투자기간)))/(투자기간*12)/일반위험관리변동성)[0:5])"
   ]
  },
  {
   "cell_type": "code",
   "execution_count": null,
   "metadata": {},
   "outputs": [],
   "source": [
    "KOSDAQTIK"
   ]
  },
  {
   "cell_type": "code",
   "execution_count": null,
   "metadata": {},
   "outputs": [],
   "source": [
    "sell,buy"
   ]
  },
  {
   "cell_type": "code",
   "execution_count": null,
   "metadata": {},
   "outputs": [],
   "source": [
    "gap[gap<0]"
   ]
  },
  {
   "cell_type": "code",
   "execution_count": null,
   "metadata": {
    "collapsed": true,
    "scrolled": true
   },
   "outputs": [],
   "source": [
    "KOSDAQTIK2 = pd.read_excel('E:\\DATA\\KOSDAQTIK.xlsx', sheetname = 3, header = 3)"
   ]
  },
  {
   "cell_type": "code",
   "execution_count": null,
   "metadata": {
    "scrolled": true
   },
   "outputs": [],
   "source": [
    "KOSDAQTIK2.head()"
   ]
  },
  {
   "cell_type": "code",
   "execution_count": null,
   "metadata": {
    "collapsed": true
   },
   "outputs": [],
   "source": []
  }
 ],
 "metadata": {
  "kernelspec": {
   "display_name": "Python 3",
   "language": "python",
   "name": "python3"
  },
  "language_info": {
   "codemirror_mode": {
    "name": "ipython",
    "version": 3
   },
   "file_extension": ".py",
   "mimetype": "text/x-python",
   "name": "python",
   "nbconvert_exporter": "python",
   "pygments_lexer": "ipython3",
   "version": "3.6.3"
  }
 },
 "nbformat": 4,
 "nbformat_minor": 2
}
